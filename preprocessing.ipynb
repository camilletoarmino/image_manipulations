{
 "cells": [
  {
   "cell_type": "code",
   "execution_count": 1,
   "metadata": {},
   "outputs": [],
   "source": [
    "# Preprocessing\n",
    "import cv2\n",
    "import numpy as np\n",
    "import os\n",
    "import matplotlib\n",
    "# matplotlib.use('Agg')\n",
    "import matplotlib.pyplot as plt\n",
    "from tqdm import tqdm\n",
    "from PIL import Image"
   ]
  },
  {
   "cell_type": "code",
   "execution_count": 2,
   "metadata": {},
   "outputs": [],
   "source": [
    "def preprocess(path, img, output_dir):\n",
    "    \"\"\"Binarize and remove background\n",
    "    \n",
    "    Parameters\n",
    "    ----------\n",
    "    img : arr\n",
    "        Image data\n",
    "    \n",
    "    Returns\n",
    "    -------\n",
    "    thresh_img : arr\n",
    "        Processed image\n",
    "    \"\"\"\n",
    "\n",
    "    if not os.path.exists(output_dir):\n",
    "        os.makedirs(output_dir)\n",
    "    \n",
    "    # read in image\n",
    "    img_path = path+img\n",
    "    img = cv2.imread(img_path)\n",
    "\n",
    "    # Convert to grayscale\n",
    "    gray_img = cv2.cvtColor(img, cv2.COLOR_BGR2GRAY) \n",
    "    # Remove noise with bilateral filter (effective in noise removal while keeping edges sharp)\n",
    "    gray_img_filt = cv2.bilateralFilter(gray_img, d=7, sigmaColor=75, sigmaSpace=75)\n",
    "    # Remove shadows from image  by blurring image and subtracting from non-blurred image\n",
    "    dilated_img = cv2.dilate(gray_img_filt, kernel=np.ones((20, 20), np.uint8))\n",
    "    blur_img = cv2.medianBlur(dilated_img, ksize=21)\n",
    "    diff_img = 255 - cv2.absdiff(gray_img_filt, blur_img)\n",
    "    thresh_val = 0\n",
    "    max_value = 255\n",
    "    # Apply Otsu Binarization, which searches for a threshold based on the local minima in a\n",
    "    # bi-modal histogram\n",
    "    ret, thresh_img = cv2.threshold(diff_img, thresh=thresh_val, maxval=max_value, type=cv2.THRESH_BINARY + cv2.THRESH_OTSU)\n",
    "    plt.axis('off')\n",
    "    plt.imshow(thresh_img, cmap='Greys_r')\n",
    "    #plt.imshow(thresh_img)\n",
    "    # plt.show()\n",
    "    \n",
    "    # save image\n",
    "    save_filename = output_dir+file\n",
    "    cv2.imwrite(save_filename, thresh_img) "
   ]
  },
  {
   "cell_type": "code",
   "execution_count": 4,
   "metadata": {},
   "outputs": [
    {
     "name": "stderr",
     "output_type": "stream",
     "text": [
      "100%|██████████| 157/157 [00:00<00:00, 246.53it/s]\n"
     ]
    },
    {
     "data": {
      "image/png": "[encoded data removed]",
      "text/plain": [
       "<Figure size 432x288 with 1 Axes>"
      ]
     },
     "metadata": {
      "needs_background": "light"
     },
     "output_type": "display_data"
    }
   ],
   "source": [
    "png_dir = '/Users/utoarca/Documents/Pearson_AI/gan_data/synthetic_with_color/with_backgrounds/'\n",
    "png_dir_out = '/Users/utoarca/Documents/Pearson_AI/gan_data/synthetic_with_color/preprocessed/'\n",
    "    # paths = [{'in_': train_path_input, 'out_': output_dir_train_input}, \n",
    "    #          {'in_': train_path_real, 'out_':output_dir_train_real,\n",
    "    #          {'in_': test_path_input, 'out_': output_dir_test_input}, \n",
    "    #          {'in_': test_path_real, 'out_': output_dir_test_real}]\n",
    "\n",
    "paths = [{'in_': png_dir, 'out_': png_dir_out}]\n",
    "        \n",
    "for num in range(0, len(paths)):\n",
    "    # print(paths[num])\n",
    "    for file in tqdm(os.listdir(paths[num]['in_'])):\n",
    "        # print(file)\n",
    "        preprocess(paths[num]['in_'], file, paths[num]['out_'])"
   ]
  },
  {
   "cell_type": "code",
   "execution_count": null,
   "metadata": {},
   "outputs": [],
   "source": []
  }
 ],
 "metadata": {
  "kernelspec": {
   "display_name": "Python 3",
   "language": "python",
   "name": "python3"
  },
  "language_info": {
   "codemirror_mode": {
    "name": "ipython",
    "version": 3
   },
   "file_extension": ".py",
   "mimetype": "text/x-python",
   "name": "python",
   "nbconvert_exporter": "python",
   "pygments_lexer": "ipython3",
   "version": "3.6.9"
  }
 },
 "nbformat": 4,
 "nbformat_minor": 2
}
